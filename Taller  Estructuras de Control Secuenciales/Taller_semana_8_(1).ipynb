{
  "cells": [
    {
      "cell_type": "markdown",
      "metadata": {
        "id": "QZ6XziVD76Jw"
      },
      "source": [
        "<h1 align=\"center\">Taller - Instrucciones repetitivas en Python</h1>\n",
        "\n",
        "Desarrolle la solucion a los siguientes problemas en Python, usando funciones y el programa correspondiente\n",
        "\n",
        "---"
      ]
    },
    {
      "cell_type": "markdown",
      "metadata": {
        "id": "uJJp2xk076J1"
      },
      "source": [
        "## Ejercicio 01\n",
        "\n",
        "Una librería ofrece dos tipos de descuentos ante la compra de un libro. Si el libro tiene un precio inferior a cien mil pesos, el descuento es del 12% del precio; pero en cualquier otro caso, el descuento asciende a un 18%.\n",
        "\n",
        "* Escriba una función que halle el precio neto de un libro (precio menos descuento) de un libro, dado el precio del libro.\n",
        "* Ahora, escriba un programa que permita leer el precio de varios libros (finalizar cuando el precio es cero o negativo) y mostrar para cada libro, el precio neto (usando la función desarrollada anteriormente)"
      ]
    },
    {
      "cell_type": "code",
      "execution_count": null,
      "metadata": {
        "id": "58mamZV176J2",
        "colab": {
          "base_uri": "https://localhost:8080/",
          "height": 356
        },
        "collapsed": true,
        "outputId": "9f620477-000c-49ba-9a9f-1fc718ce4d7a"
      },
      "outputs": [
        {
          "output_type": "error",
          "ename": "KeyboardInterrupt",
          "evalue": "Interrupted by user",
          "traceback": [
            "\u001b[0;31m---------------------------------------------------------------------------\u001b[0m",
            "\u001b[0;31mKeyboardInterrupt\u001b[0m                         Traceback (most recent call last)",
            "\u001b[0;32m<ipython-input-7-938e999befa2>\u001b[0m in \u001b[0;36m<cell line: 0>\u001b[0;34m()\u001b[0m\n\u001b[1;32m      7\u001b[0m     \u001b[0;32mreturn\u001b[0m \u001b[0mprecio_neto\u001b[0m\u001b[0;34m\u001b[0m\u001b[0;34m\u001b[0m\u001b[0m\n\u001b[1;32m      8\u001b[0m \u001b[0;31m# Programa principal\u001b[0m\u001b[0;34m\u001b[0m\u001b[0;34m\u001b[0m\u001b[0m\n\u001b[0;32m----> 9\u001b[0;31m \u001b[0mprecio_libro\u001b[0m\u001b[0;34m=\u001b[0m\u001b[0mfloat\u001b[0m\u001b[0;34m(\u001b[0m\u001b[0minput\u001b[0m\u001b[0;34m(\u001b[0m\u001b[0;34m\"ingrese el precio del clibro: \"\u001b[0m\u001b[0;34m)\u001b[0m\u001b[0;34m)\u001b[0m\u001b[0;34m\u001b[0m\u001b[0;34m\u001b[0m\u001b[0m\n\u001b[0m\u001b[1;32m     10\u001b[0m \u001b[0;32mwhile\u001b[0m \u001b[0mprecio_libro\u001b[0m\u001b[0;34m>\u001b[0m\u001b[0;36m0\u001b[0m\u001b[0;34m:\u001b[0m\u001b[0;34m\u001b[0m\u001b[0;34m\u001b[0m\u001b[0m\n\u001b[1;32m     11\u001b[0m     \u001b[0mprecio_neto\u001b[0m\u001b[0;34m=\u001b[0m\u001b[0mhallar_precio_neto\u001b[0m\u001b[0;34m(\u001b[0m\u001b[0mprecio_libro\u001b[0m\u001b[0;34m)\u001b[0m\u001b[0;34m\u001b[0m\u001b[0;34m\u001b[0m\u001b[0m\n",
            "\u001b[0;32m/usr/local/lib/python3.11/dist-packages/ipykernel/kernelbase.py\u001b[0m in \u001b[0;36mraw_input\u001b[0;34m(self, prompt)\u001b[0m\n\u001b[1;32m   1175\u001b[0m                 \u001b[0;34m\"raw_input was called, but this frontend does not support input requests.\"\u001b[0m\u001b[0;34m\u001b[0m\u001b[0;34m\u001b[0m\u001b[0m\n\u001b[1;32m   1176\u001b[0m             )\n\u001b[0;32m-> 1177\u001b[0;31m         return self._input_request(\n\u001b[0m\u001b[1;32m   1178\u001b[0m             \u001b[0mstr\u001b[0m\u001b[0;34m(\u001b[0m\u001b[0mprompt\u001b[0m\u001b[0;34m)\u001b[0m\u001b[0;34m,\u001b[0m\u001b[0;34m\u001b[0m\u001b[0;34m\u001b[0m\u001b[0m\n\u001b[1;32m   1179\u001b[0m             \u001b[0mself\u001b[0m\u001b[0;34m.\u001b[0m\u001b[0m_parent_ident\u001b[0m\u001b[0;34m[\u001b[0m\u001b[0;34m\"shell\"\u001b[0m\u001b[0;34m]\u001b[0m\u001b[0;34m,\u001b[0m\u001b[0;34m\u001b[0m\u001b[0;34m\u001b[0m\u001b[0m\n",
            "\u001b[0;32m/usr/local/lib/python3.11/dist-packages/ipykernel/kernelbase.py\u001b[0m in \u001b[0;36m_input_request\u001b[0;34m(self, prompt, ident, parent, password)\u001b[0m\n\u001b[1;32m   1217\u001b[0m             \u001b[0;32mexcept\u001b[0m \u001b[0mKeyboardInterrupt\u001b[0m\u001b[0;34m:\u001b[0m\u001b[0;34m\u001b[0m\u001b[0;34m\u001b[0m\u001b[0m\n\u001b[1;32m   1218\u001b[0m                 \u001b[0;31m# re-raise KeyboardInterrupt, to truncate traceback\u001b[0m\u001b[0;34m\u001b[0m\u001b[0;34m\u001b[0m\u001b[0m\n\u001b[0;32m-> 1219\u001b[0;31m                 \u001b[0;32mraise\u001b[0m \u001b[0mKeyboardInterrupt\u001b[0m\u001b[0;34m(\u001b[0m\u001b[0;34m\"Interrupted by user\"\u001b[0m\u001b[0;34m)\u001b[0m \u001b[0;32mfrom\u001b[0m \u001b[0;32mNone\u001b[0m\u001b[0;34m\u001b[0m\u001b[0;34m\u001b[0m\u001b[0m\n\u001b[0m\u001b[1;32m   1220\u001b[0m             \u001b[0;32mexcept\u001b[0m \u001b[0mException\u001b[0m\u001b[0;34m:\u001b[0m\u001b[0;34m\u001b[0m\u001b[0;34m\u001b[0m\u001b[0m\n\u001b[1;32m   1221\u001b[0m                 \u001b[0mself\u001b[0m\u001b[0;34m.\u001b[0m\u001b[0mlog\u001b[0m\u001b[0;34m.\u001b[0m\u001b[0mwarning\u001b[0m\u001b[0;34m(\u001b[0m\u001b[0;34m\"Invalid Message:\"\u001b[0m\u001b[0;34m,\u001b[0m \u001b[0mexc_info\u001b[0m\u001b[0;34m=\u001b[0m\u001b[0;32mTrue\u001b[0m\u001b[0;34m)\u001b[0m\u001b[0;34m\u001b[0m\u001b[0;34m\u001b[0m\u001b[0m\n",
            "\u001b[0;31mKeyboardInterrupt\u001b[0m: Interrupted by user"
          ]
        }
      ],
      "source": [
        "\n",
        "\n",
        "# Definición de la función\n",
        "def hallar_precio_neto (precio_libro:float) -> float:\n",
        "    if(precio_libro<100000):\n",
        "        precio_neto=precio_libro*0.88\n",
        "    else:\n",
        "        precio_neto=precio_libro*0.82\n",
        "    return precio_neto\n",
        "\n",
        "# Programa principal\n",
        "precio_libro=float(input(\"ingrese el precio del clibro: \"))\n",
        "while precio_libro>0:\n",
        "    precio_neto=hallar_precio_neto(precio_libro)\n",
        "    print(\"El precio del libro es: \", precio_neto)\n",
        "    precio_libro=float(input(\"ingrese el precio del clibro: \"))\n"
      ]
    },
    {
      "cell_type": "markdown",
      "metadata": {
        "id": "jF4Qm9FE76J3"
      },
      "source": [
        "---"
      ]
    },
    {
      "cell_type": "markdown",
      "metadata": {
        "id": "weyR_q0d76J4"
      },
      "source": [
        "## Ejercicio 02\n",
        "\n",
        "Un vendedor recibe una comisión por el volumen de ventas que realice. Las reglas para asignarle la comisión al vendedor son las siguientes:\n",
        "\n",
        "Ventas | Comisión\n",
        "---|---\n",
        "Inferior a 50 mil pesos | 7% de las ventas\n",
        "Entre 50 mil y 100 mil pesos | 9% de las ventas más 5 mil pesos\n",
        "Entre 100 mil y 200 mil pesos | 11% de las ventas más 10 mil pesos\n",
        "Entre 200 mil y 500 mil pesos | 13% de las ventas más 20 mil pesos\n",
        "Más de 500 mil pesos | 15% de las ventas más 40 mil pesos\n",
        "\n",
        "* Escriba una función que recibe el valor de las ventas de un vendedor y que retorne la comisión\n",
        "* Escriba un programa que lea el valor de ventas de varios vendedores de la empresa (finalizar cuando las ventas sean negativas), y usando la función anterior, calcule la comisión y la imprima por pantalla."
      ]
    },
    {
      "cell_type": "code",
      "execution_count": null,
      "metadata": {
        "id": "kMitVJVW76J4"
      },
      "outputs": [],
      "source": [
        "# Definición de la función\n",
        "def hallar_comision (ventas:float) -> float:\n",
        "    if(ventas<50000):\n",
        "     comision=ventas*0.07\n",
        "    elif (ventas>=50000 and ventas<100000):\n",
        "        comision=ventas*0.09+5000\n",
        "    elif (ventas>=100000 and ventas<200000):\n",
        "        comision=ventas*0.11+10000\n",
        "    elif (ventas>=200000 and ventas<500000):\n",
        "        comision=ventas*0.13+20000\n",
        "    elif (ventas>=500000):\n",
        "        comision=ventas*0.15+40000\n",
        "# Programa principal\n",
        "ventas=float(int(input\"Ingrece el valor de la venta: \"))\n",
        "while ventas>=0:\n",
        "    comision=hallar_comision(ventas)\n",
        "    print(\"La comision es: \", comision)\n",
        "\n"
      ]
    },
    {
      "cell_type": "markdown",
      "metadata": {
        "id": "YWyFJrR876J4"
      },
      "source": [
        "---\n"
      ]
    },
    {
      "cell_type": "markdown",
      "metadata": {
        "id": "2IHUrLVh76J5"
      },
      "source": [
        "## Ejercicio 03\n",
        "\n",
        "Una empresa ofrece a sus empleados un salario mensual fijo, y un porcertaje de las ventas como una comisión adicional a ese salario mensual. Esta comisión se calcula de la siguiente manera: si las ventas de un empleado excede los 50 mil pesoso, la comisión será de un 12% de las ventas que están por encima de los 50 mil pesos, en otro caso no habrá comisión.\n",
        "\n",
        "* Primero, construya una función en la que dado las ventas que hizo el empleado, determine cuánto es la comisión\n",
        "* Ahora hay que hacer un programa que calcule y muestre los salarios y comisiones de todos los empleados de la empresa. Para cada empleado hay que preguntarle al usuario, el salario mensual y las ventas realizadas, y mostrar la comisión por las ventas (usando la función anterior) y el salario neto (salario más comisión). Como no sabemos cuántos empleados hay, después de mostrar esta información, debemos preguntarle al usuario si desea seguir o no."
      ]
    },
    {
      "cell_type": "code",
      "execution_count": null,
      "metadata": {
        "id": "aTuMvKmw76J5",
        "colab": {
          "base_uri": "https://localhost:8080/"
        },
        "outputId": "b8950b23-39c9-4d27-f852-a9650d62d828"
      },
      "outputs": [
        {
          "output_type": "stream",
          "name": "stdout",
          "text": [
            "Ingrese el salario mensual: 511111\n",
            "Ingrese las ventas: 111111\n",
            "La comision es:  13333.32\n",
            "El salario neto es:  524444.32\n"
          ]
        }
      ],
      "source": [
        "# Definición de la función\n",
        "\n",
        "def hallar_comision (ventas:float) -> float:\n",
        "    if(ventas>50000):\n",
        "        comision=ventas*0.12\n",
        "    else:\n",
        "        comision=0\n",
        "    return comision\n",
        "\n",
        "# Programa principal\n",
        "while True:\n",
        "    salario_mensual=float(input(\"Ingrese el salario mensual: \"))\n",
        "    ventas=float(input(\"Ingrese las ventas: \"))\n",
        "    comision=hallar_comision(ventas=ventas)\n",
        "    salario_neto=salario_mensual+comision\n",
        "    print(\"La comision es: \", comision)\n",
        "    print(\"El salario neto es: \", salario_neto)"
      ]
    },
    {
      "cell_type": "markdown",
      "metadata": {
        "id": "6M93ZEZh76J5"
      },
      "source": [
        "---"
      ]
    },
    {
      "cell_type": "markdown",
      "metadata": {
        "id": "ge6TBY0P76J6"
      },
      "source": [
        "## Ejercicio 04\n",
        "\n",
        "En una empresa se le paga a los trabajadores al final de cada semana de acuerdo a las reglas dadas a continuación:\n",
        "\n",
        "* Si trabajas 35 horas o menos, se le paga un valor de 15 mil pesos la hora;\n",
        "* Si trabaja más de 35 horas pero menos de 60, el valor de la hora es de 15 mil por las primeras 35 horas y de 18 mil por cada hora trabajada por encima de las 35\n",
        "* Si trabaja más de 60 horas, las primeras 35 se pagan a 15 mil, las siguiente 25 horas a 18 mil cada una y las horas horas trabajadas por encima de las 60 horas, se le paga a 25 mil pesos cada una.\n",
        "\n",
        "Vamos a buscar imprimir el salario semanal de cada uno de los empleados de la empresa. Para ello:\n",
        "\n",
        "* Escriba una función que reciba el número de horas trabajadas por un empleado y retorne el salario\n",
        "* Un programa que le pregunte al usuario el número de empleados que trabajan en la empresa, y para cada uno de esos, pregunte el número de horas trabajadas en la semana, y usando la función anterior, imprima el salario mensual de ese empleado."
      ]
    },
    {
      "cell_type": "code",
      "execution_count": null,
      "metadata": {
        "id": "o8NultX076J6"
      },
      "outputs": [],
      "source": [
        "# Definición de la función\n",
        "def hallar_salario (horas_trabajadas:float) -> float:\n",
        "        if horas_trabajadas<=35:\n",
        "                salario=horas_trabajadas*15000\n",
        "        elif horas_trabajadas>35 and horas_trabajadas<60:\n",
        "                salario=35*15000+(horas_trabajadas-35)*18000\n",
        "        elif horas_trabajadas>=60:\n",
        "                salario=35*15000+25*18000+(horas_trabajadas-60)*25000\n",
        "        return salario\n",
        "total_trabajadores = int(input(\"Ingrese el numero de empleados\"))\n",
        "for i in range(total_trabajadores):\n",
        "        horas_trabajadas =float(int(input(\"Ingrese el numero de horas\")))\n",
        "        salario=hallar_salario(horas_trabajadas)\n",
        "        print(salario)"
      ]
    }
  ],
  "metadata": {
    "colab": {
      "provenance": []
    },
    "kernelspec": {
      "display_name": "Python 3",
      "language": "python",
      "name": "python3"
    },
    "language_info": {
      "codemirror_mode": {
        "name": "ipython",
        "version": 3
      },
      "file_extension": ".py",
      "mimetype": "text/x-python",
      "name": "python",
      "nbconvert_exporter": "python",
      "pygments_lexer": "ipython3",
      "version": "3.7.7"
    }
  },
  "nbformat": 4,
  "nbformat_minor": 0
}